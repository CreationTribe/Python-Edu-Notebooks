{
 "cells": [
  {
   "cell_type": "code",
   "execution_count": 2,
   "metadata": {
    "collapsed": true
   },
   "outputs": [],
   "source": [
    "class Human:\n",
    "\n",
    "    def __init__(self):\n",
    "        pass\n",
    "\n",
    "    class Brain:\n",
    "\n",
    "        def __init__(self):\n",
    "            pass\n",
    "\n",
    "        class PreFrontalCortex:\n",
    "\n",
    "            def __init__(self):\n",
    "                pass\n",
    "\n",
    "jake = Human()\n",
    "\n",
    "jakes_brain = jake.Brain()\n",
    "\n",
    "jakes_brains_pfc = jakes_brain.PreFrontalCortex()\n",
    "\n"
   ]
  }
 ],
 "metadata": {
  "kernelspec": {
   "display_name": "Python 3",
   "language": "python",
   "name": "python3"
  },
  "language_info": {
   "codemirror_mode": {
    "name": "ipython",
    "version": 2
   },
   "file_extension": ".py",
   "mimetype": "text/x-python",
   "name": "python",
   "nbconvert_exporter": "python",
   "pygments_lexer": "ipython2",
   "version": "2.7.6"
  }
 },
 "nbformat": 4,
 "nbformat_minor": 0
}