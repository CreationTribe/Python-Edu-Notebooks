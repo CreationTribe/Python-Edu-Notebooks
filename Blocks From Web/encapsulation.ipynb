{
 "cells": [
  {
   "cell_type": "code",
   "execution_count": 4,
   "metadata": {
    "collapsed": true
   },
   "outputs": [
    {
     "name": "stdout",
     "output_type": "stream",
     "text": [
      "nah dude\n",
      "privacy is for horses\n",
      "public bitches!\n",
      "nah dude\n",
      "public bitches!\n"
     ]
    }
   ],
   "source": [
    "# making a variable private? Is this right?\n",
    "\n",
    "class Human:\n",
    "\n",
    "    _my_not_so_private_variable = ''\n",
    "    __my_private_variable = ''\n",
    "    my_pubvar = ''\n",
    "\n",
    "    def __init__(self):\n",
    "        self.__my_private_variable = 'nah dude'\n",
    "        self._my_not_so_private_variable = 'privacy is for horses'\n",
    "        self.my_pubvar = 'public bitches!'\n",
    "\n",
    "    def print_private(self):\n",
    "        print(self.__my_private_variable)\n",
    "\n",
    "    def print_not_so_private(self):\n",
    "        print(self._my_not_so_private_variable)\n",
    "\n",
    "    def print_pub(self):\n",
    "        print(self.my_pubvar)\n",
    "\n",
    "\n",
    "\n",
    "\n",
    "joe = Human()\n",
    "\n",
    "joe.print_private()\n",
    "joe.print_not_so_private()\n",
    "joe.print_pub()\n",
    "\n",
    "# print(joe._my_private_variable)\n",
    "print(joe._Human__my_private_variable)\n",
    "# print(joe._my_not_so_private_variable)\n",
    "# print(joe._Human__my_not_so_private_variable)\n",
    "print(joe.my_pubvar)"
   ]
  },
  {
   "cell_type": "code",
   "execution_count": null,
   "outputs": [],
   "source": [],
   "metadata": {
    "collapsed": false,
    "pycharm": {
     "name": "#%%\n"
    }
   }
  }
 ],
 "metadata": {
  "kernelspec": {
   "display_name": "Python 3",
   "language": "python",
   "name": "python3"
  },
  "language_info": {
   "codemirror_mode": {
    "name": "ipython",
    "version": 2
   },
   "file_extension": ".py",
   "mimetype": "text/x-python",
   "name": "python",
   "nbconvert_exporter": "python",
   "pygments_lexer": "ipython2",
   "version": "2.7.6"
  }
 },
 "nbformat": 4,
 "nbformat_minor": 0
}