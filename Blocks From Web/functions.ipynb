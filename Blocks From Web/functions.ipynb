{
 "cells": [
  {
   "cell_type": "code",
   "execution_count": 1,
   "metadata": {
    "collapsed": true
   },
   "outputs": [
    {
     "name": "stdout",
     "output_type": "stream",
     "text": [
      "my lil ol func\n"
     ]
    }
   ],
   "source": [
    "def myfunc():\n",
    "    print('my lil ol func')\n",
    "\n",
    "functag = myfunc\n",
    "\n",
    "functag()"
   ]
  },
  {
   "cell_type": "code",
   "execution_count": 5,
   "outputs": [
    {
     "name": "stdout",
     "output_type": "stream",
     "text": [
      "999\n",
      "345\n"
     ]
    }
   ],
   "source": [
    "# global()\n",
    "\n",
    "x = 345\n",
    "\n",
    "def dontdothis():\n",
    "    x=999\n",
    "    print(x)\n",
    "    print(globals()['x'])\n",
    "\n",
    "dontdothis()"
   ],
   "metadata": {
    "collapsed": false,
    "pycharm": {
     "name": "#%%\n"
    }
   }
  },
  {
   "cell_type": "code",
   "execution_count": 6,
   "outputs": [
    {
     "name": "stdout",
     "output_type": "stream",
     "text": [
      "30 10 200\n"
     ]
    }
   ],
   "source": [
    "def basicMathoperation(a, b):\n",
    "    return (a + b), (a - b), (a * b)\n",
    "\n",
    "x, y, z = basicMathoperation(a=20, b=10)\n",
    "\n",
    "print(x,y,z)"
   ],
   "metadata": {
    "collapsed": false,
    "pycharm": {
     "name": "#%%\n"
    }
   }
  },
  {
   "cell_type": "code",
   "execution_count": 7,
   "outputs": [
    {
     "name": "stdout",
     "output_type": "stream",
     "text": [
      "Here boy, here Fido\n"
     ]
    }
   ],
   "source": [
    "# pas function as argument\n",
    "def doggy():\n",
    "    return \"Fido\"\n",
    "\n",
    "def call_doggy(doggy):\n",
    "    print(\"Here boy, here \"+doggy)\n",
    "\n",
    "call_doggy(doggy())"
   ],
   "metadata": {
    "collapsed": false,
    "pycharm": {
     "name": "#%%\n"
    }
   }
  },
  {
   "cell_type": "code",
   "execution_count": 9,
   "outputs": [
    {
     "name": "stdout",
     "output_type": "stream",
     "text": [
      "golden\n"
     ]
    }
   ],
   "source": [
    "# return function as ... just return function\n",
    "def func1():\n",
    "    return 'golden'\n",
    "\n",
    "def func2():\n",
    "    return func1()\n",
    "\n",
    "print(func2())\n",
    "\n"
   ],
   "metadata": {
    "collapsed": false,
    "pycharm": {
     "name": "#%%\n"
    }
   }
  },
  {
   "cell_type": "code",
   "execution_count": 11,
   "outputs": [
    {
     "name": "stdout",
     "output_type": "stream",
     "text": [
      "81\n"
     ]
    }
   ],
   "source": [
    "# LAMBDA!!!\n",
    "lmbd = lambda a, b : a**b\n",
    "\n",
    "print(lmbd(3, 4))"
   ],
   "metadata": {
    "collapsed": false,
    "pycharm": {
     "name": "#%%\n"
    }
   }
  },
  {
   "cell_type": "code",
   "execution_count": 15,
   "outputs": [
    {
     "name": "stdout",
     "output_type": "stream",
     "text": [
      "[6, 8, 259, 9, 704, 330, 25, 48, 72, 0]\n"
     ]
    },
    {
     "ename": "TypeError",
     "evalue": "times() takes 2 positional arguments but 4 were given",
     "output_type": "error",
     "traceback": [
      "\u001B[0;31m---------------------------------------------------------------------------\u001B[0m",
      "\u001B[0;31mTypeError\u001B[0m                                 Traceback (most recent call last)",
      "\u001B[0;32m<ipython-input-15-379d83845236>\u001B[0m in \u001B[0;36m<module>\u001B[0;34m\u001B[0m\n\u001B[1;32m      9\u001B[0m \u001B[0;34m\u001B[0m\u001B[0m\n\u001B[1;32m     10\u001B[0m \u001B[0mprint\u001B[0m\u001B[0;34m(\u001B[0m\u001B[0mlist\u001B[0m\u001B[0;34m(\u001B[0m\u001B[0mmap\u001B[0m\u001B[0;34m(\u001B[0m\u001B[0mtimes\u001B[0m\u001B[0;34m,\u001B[0m \u001B[0mlll\u001B[0m\u001B[0;34m,\u001B[0m \u001B[0mxxx\u001B[0m\u001B[0;34m)\u001B[0m\u001B[0;34m)\u001B[0m\u001B[0;34m)\u001B[0m\u001B[0;34m\u001B[0m\u001B[0;34m\u001B[0m\u001B[0m\n\u001B[0;32m---> 11\u001B[0;31m \u001B[0mprint\u001B[0m\u001B[0;34m(\u001B[0m\u001B[0mlist\u001B[0m\u001B[0;34m(\u001B[0m\u001B[0mmap\u001B[0m\u001B[0;34m(\u001B[0m\u001B[0mtimes\u001B[0m\u001B[0;34m,\u001B[0m \u001B[0mlll\u001B[0m\u001B[0;34m,\u001B[0m \u001B[0mxxx\u001B[0m\u001B[0;34m,\u001B[0m \u001B[0mlll\u001B[0m\u001B[0;34m,\u001B[0m \u001B[0mxxx\u001B[0m \u001B[0;34m)\u001B[0m \u001B[0;34m)\u001B[0m \u001B[0;34m)\u001B[0m\u001B[0;34m\u001B[0m\u001B[0;34m\u001B[0m\u001B[0m\n\u001B[0m\u001B[1;32m     12\u001B[0m \u001B[0;34m\u001B[0m\u001B[0m\n",
      "\u001B[0;31mTypeError\u001B[0m: times() takes 2 positional arguments but 4 were given"
     ]
    }
   ],
   "source": [
    "# MAP\n",
    "\n",
    "lll = [1, 2, 7, 9, 88, 66, 5, 4, 36, 30]\n",
    "xxx = [6, 4, 37, 1, 8, 5, 5, 12, 2, 0]\n",
    "\n",
    "\n",
    "def times(a, b):\n",
    "    return a*b\n",
    "\n",
    "print(list(map(times, lll, xxx)))\n",
    "# print(list(map(times, lll, xxx) ) )"
   ],
   "metadata": {
    "collapsed": false,
    "pycharm": {
     "name": "#%%\n"
    }
   }
  },
  {
   "cell_type": "code",
   "execution_count": 16,
   "outputs": [
    {
     "name": "stdout",
     "output_type": "stream",
     "text": [
      "[10, 40, 200, 4000]\n"
     ]
    }
   ],
   "source": [
    "# FILTER!!!\n",
    "listItems = [10, 13, 40, 399, 200, 4000]\n",
    "\n",
    "result = list(filter((lambda n: n % 2 == 0), listItems))\n",
    "\n",
    "print(result)\n"
   ],
   "metadata": {
    "collapsed": false,
    "pycharm": {
     "name": "#%%\n"
    }
   }
  },
  {
   "cell_type": "code",
   "execution_count": 17,
   "outputs": [
    {
     "name": "stdout",
     "output_type": "stream",
     "text": [
      "Hello Sam, How are you?\n"
     ]
    }
   ],
   "source": [
    "# How to use a @DECORATOR\n",
    "def Greetingdecor(fun):\n",
    "    def inner(n):\n",
    "        # taking the result from the actual function\n",
    "        result = fun(n)\n",
    "        # Adding extra functionality to it\n",
    "        result += \", How are you?\"\n",
    "        # Finally returing the value\n",
    "        return result\n",
    "    return inner\n",
    "\n",
    "@Greetingdecor # <<< DECORATOR adds a function to the object\n",
    "def hello(name):\n",
    "    return \"Hello {}\".format(name)\n",
    "\n",
    "print(hello(\"Sam\"))"
   ],
   "metadata": {
    "collapsed": false,
    "pycharm": {
     "name": "#%%\n"
    }
   }
  }
 ],
 "metadata": {
  "kernelspec": {
   "display_name": "Python 3",
   "language": "python",
   "name": "python3"
  },
  "language_info": {
   "codemirror_mode": {
    "name": "ipython",
    "version": 2
   },
   "file_extension": ".py",
   "mimetype": "text/x-python",
   "name": "python",
   "nbconvert_exporter": "python",
   "pygments_lexer": "ipython2",
   "version": "2.7.6"
  }
 },
 "nbformat": 4,
 "nbformat_minor": 0
}