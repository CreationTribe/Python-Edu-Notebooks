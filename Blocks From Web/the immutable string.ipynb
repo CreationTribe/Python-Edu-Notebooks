{
 "cells": [
  {
   "cell_type": "code",
   "execution_count": 1,
   "metadata": {
    "collapsed": true
   },
   "outputs": [
    {
     "name": "stdout",
     "output_type": "stream",
     "text": [
      "012345678910111213141516171819\n",
      "012345678910111213141516171819\n",
      "012345678910111213141516171819\n"
     ]
    }
   ],
   "source": [
    "# From: https://docs.python-guide.org/writing/structure/\n",
    "\n",
    "\n",
    "# Bad\n",
    "# create a concatenated string from 0 to 19 (e.g. \"012..1819\")\n",
    "nums = \"\"\n",
    "for n in range(20):\n",
    "    nums += str(n)   # slow and inefficient\n",
    "print(nums)\n",
    "\n",
    "\n",
    "# Better\n",
    "# create a concatenated string from 0 to 19 (e.g. \"012..1819\")\n",
    "nums = []\n",
    "for n in range(20):\n",
    "    nums.append(str(n))\n",
    "print(\"\".join(nums))  # much more efficient\n",
    "\n",
    "\n",
    "# Best\n",
    "# create a concatenated string from 0 to 19 (e.g. \"012..1819\")\n",
    "nums = [str(n) for n in range(20)]\n",
    "print(\"\".join(nums))"
   ]
  },
  {
   "cell_type": "code",
   "execution_count": null,
   "outputs": [],
   "source": [
    "\n",
    "\n",
    "\"\"\"\n",
    "One final thing to mention about strings is that using join() is not always best. In the instances where you are\n",
    " creating a new string from a pre-determined number of strings, using the addition operator is actually faster,\n",
    " but in cases like above or in cases where you are adding to an existing string, using join() should be your\n",
    " preferred method.\n",
    "\"\"\"\n",
    "foo = 'foo'\n",
    "bar = 'bar'\n",
    "\n",
    "foobar = foo + bar  # This is good\n",
    "foo += 'ooo'  # This is bad, instead you should do:\n",
    "foo = ''.join([foo, 'ooo'])\n",
    "\n",
    "\n",
    "\n",
    "\"\"\"\n",
    "Note\n",
    "You can also use the % formatting operator to concatenate a pre-determined number of strings besides str.join() and +.\n",
    " However, PEP 3101 discourages the usage of the % operator in favor of the str.format() method.\n",
    "\"\"\"\n",
    "foo = 'foo'\n",
    "bar = 'bar'\n",
    "\n",
    "foobar = '%s%s' % (foo, bar) # It is OK\n",
    "foobar = '{0}{1}'.format(foo, bar) # It is better\n",
    "foobar = '{foo}{bar}'.format(foo=foo, bar=bar) # It is best"
   ],
   "metadata": {
    "collapsed": false,
    "pycharm": {
     "name": "#%%\n"
    }
   }
  }
 ],
 "metadata": {
  "kernelspec": {
   "display_name": "Python 3",
   "language": "python",
   "name": "python3"
  },
  "language_info": {
   "codemirror_mode": {
    "name": "ipython",
    "version": 2
   },
   "file_extension": ".py",
   "mimetype": "text/x-python",
   "name": "python",
   "nbconvert_exporter": "python",
   "pygments_lexer": "ipython2",
   "version": "2.7.6"
  }
 },
 "nbformat": 4,
 "nbformat_minor": 0
}