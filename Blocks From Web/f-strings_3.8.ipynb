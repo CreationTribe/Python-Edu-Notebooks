{
 "cells": [
  {
   "cell_type": "code",
   "execution_count": 2,
   "metadata": {
    "collapsed": true
   },
   "outputs": [
    {
     "data": {
      "text/plain": "\"user='dkm' member_since=datetime.date(1997, 7, 21)\""
     },
     "execution_count": 2,
     "metadata": {},
     "output_type": "execute_result"
    }
   ],
   "source": [
    "# In case you didn't know: Python 3.8 f-strings support = for\n",
    "#                 self-documenting expressions and debugging\n",
    "\n",
    "# Python 3.8 added an = specifier to f-strings. An f-string such as f'{expr=}'\n",
    "# will expand to the text of the expression, an equal sign, then the representation\n",
    "# of the evaluated expression.\n",
    "\n",
    "from datetime import date\n",
    "user = 'dkm'\n",
    "member_since = date(1997, 7, 21)\n",
    "f'{user=} {member_since=}'"
   ]
  },
  {
   "cell_type": "code",
   "execution_count": 3,
   "outputs": [
    {
     "data": {
      "text/plain": "'user=dkm delta.days=8,449'"
     },
     "execution_count": 3,
     "metadata": {},
     "output_type": "execute_result"
    }
   ],
   "source": [
    "delta = date.today() - member_since\n",
    "f'{user=!s} {delta.days=:,d}'\n"
   ],
   "metadata": {
    "collapsed": false,
    "pycharm": {
     "name": "#%%\n"
    }
   }
  },
  {
   "cell_type": "code",
   "execution_count": 4,
   "outputs": [
    {
     "name": "stdout",
     "output_type": "stream",
     "text": [
      "theta=30 cos(radians(theta))=0.866\n"
     ]
    }
   ],
   "source": [
    "from math import cos, radians\n",
    "theta = 30\n",
    "print(f'{theta=} {cos(radians(theta))=:.3f}')"
   ],
   "metadata": {
    "collapsed": false,
    "pycharm": {
     "name": "#%%\n"
    }
   }
  },
  {
   "cell_type": "code",
   "execution_count": null,
   "outputs": [],
   "source": [],
   "metadata": {
    "collapsed": false,
    "pycharm": {
     "name": "#%%\n"
    }
   }
  }
 ],
 "metadata": {
  "kernelspec": {
   "display_name": "Python 3",
   "language": "python",
   "name": "python3"
  },
  "language_info": {
   "codemirror_mode": {
    "name": "ipython",
    "version": 2
   },
   "file_extension": ".py",
   "mimetype": "text/x-python",
   "name": "python",
   "nbconvert_exporter": "python",
   "pygments_lexer": "ipython2",
   "version": "2.7.6"
  }
 },
 "nbformat": 4,
 "nbformat_minor": 0
}