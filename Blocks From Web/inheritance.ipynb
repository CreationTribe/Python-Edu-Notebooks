{
 "cells": [
  {
   "cell_type": "code",
   "execution_count": null,
   "metadata": {
    "collapsed": true
   },
   "outputs": [],
   "source": [
    "class Camera:\n",
    "    \"\"\"\n",
    "    Our good old multi-line\n",
    "    comment type\n",
    "    \"\"\"\n",
    "    def __init__(self):\n",
    "        pass\n",
    "\n",
    "    @abstractmethod\n",
    "    def focus(self):\n",
    "        pass\n",
    "\n",
    "\n",
    "class CannonCybershot(Camera):\n",
    "    def __init__(self):\n",
    "        pass\n",
    "\n",
    "    # the child class MUST\n",
    "    # implement the abstractmethod\n",
    "    def focus(self):\n",
    "        print('duh, uh - focus.')\n"
   ]
  }
 ],
 "metadata": {
  "kernelspec": {
   "display_name": "Python 3",
   "language": "python",
   "name": "python3"
  },
  "language_info": {
   "codemirror_mode": {
    "name": "ipython",
    "version": 2
   },
   "file_extension": ".py",
   "mimetype": "text/x-python",
   "name": "python",
   "nbconvert_exporter": "python",
   "pygments_lexer": "ipython2",
   "version": "2.7.6"
  }
 },
 "nbformat": 4,
 "nbformat_minor": 0
}