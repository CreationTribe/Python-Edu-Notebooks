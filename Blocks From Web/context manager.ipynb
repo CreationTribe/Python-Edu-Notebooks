{
 "cells": [
  {
   "cell_type": "code",
   "execution_count": null,
   "metadata": {
    "collapsed": true
   },
   "outputs": [],
   "source": [
    "# from: https://docs.python-guide.org/writing/structure/\n",
    "\n",
    "\"\"\"\n",
    "Context Managers\n",
    "    A context manager is a Python object that provides extra contextual information to an action. This extra information\n",
    "    takes the form of running a callable upon initiating the context using the with statement, as well as running a\n",
    "    callable upon completing all the code inside the with block. The most well known example of using a context manager\n",
    "    is shown here, opening on a file:\n",
    "\"\"\"\n",
    "with open('file.txt') as f:\n",
    "    contents = f.read()\n",
    "\n",
    "\"\"\"\n",
    "Anyone familiar with this pattern knows that invoking open in this fashion ensures that f’s close method will be called\n",
    "at some point. This reduces a developer’s cognitive load and makes the code easier to read.\n",
    "\n",
    "There are two easy ways to implement this functionality yourself: using a class or using a generator. Let’s implement\n",
    "the above functionality ourselves, starting with the class approach:\n",
    "\"\"\"\n",
    "class CustomOpen(object):\n",
    "    def __init__(self, filename):\n",
    "        self.file = open(filename)\n",
    "\n",
    "    def __enter__(self):\n",
    "        return self.file\n",
    "\n",
    "    def __exit__(self, ctx_type, ctx_value, ctx_traceback):\n",
    "        self.file.close()\n",
    "\n",
    "with CustomOpen('file') as f:\n",
    "    contents = f.read()\n",
    "\n",
    "\"\"\"\n",
    "This is just a regular Python object with two extra methods that are used by the with statement. CustomOpen is first\n",
    "instantiated and then its __enter__ method is called and whatever __enter__ returns is assigned to f in the as f part\n",
    "of the statement. When the contents of the with block is finished executing, the __exit__ method is then called.\n",
    "\n",
    "And now the generator approach using Python’s own contextlib:\n",
    "\"\"\"\n",
    "from contextlib import contextmanager\n",
    "\n",
    "@contextmanager\n",
    "def custom_open(filename):\n",
    "    f = open(filename)\n",
    "    try:\n",
    "        yield f\n",
    "    finally:\n",
    "        f.close()\n",
    "\n",
    "with custom_open('file') as f:\n",
    "    contents = f.read()\n",
    "\n",
    "\"\"\"\n",
    "This works in exactly the same way as the class example above, albeit it’s more terse. The custom_open function executes\n",
    " until it reaches the yield statement. It then gives control back to the with statement, which assigns whatever was\n",
    "  yield’ed to f in the as f portion. The finally clause ensures that close() is called whether or not there was an\n",
    "  exception inside the with.\n",
    "\n",
    "Since the two approaches appear the same, we should follow the Zen of Python to decide when to use which. The class\n",
    "approach might be better if there’s a considerable amount of logic to encapsulate. The function approach might be better\n",
    " for situations where we’re dealing with a simple action.\n",
    "\"\"\""
   ]
  }
 ],
 "metadata": {
  "kernelspec": {
   "display_name": "Python 3",
   "language": "python",
   "name": "python3"
  },
  "language_info": {
   "codemirror_mode": {
    "name": "ipython",
    "version": 2
   },
   "file_extension": ".py",
   "mimetype": "text/x-python",
   "name": "python",
   "nbconvert_exporter": "python",
   "pygments_lexer": "ipython2",
   "version": "2.7.6"
  }
 },
 "nbformat": 4,
 "nbformat_minor": 0
}