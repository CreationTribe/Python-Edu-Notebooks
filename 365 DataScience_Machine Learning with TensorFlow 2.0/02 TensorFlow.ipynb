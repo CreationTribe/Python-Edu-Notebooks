{
 "cells": [
  {
   "cell_type": "code",
   "execution_count": 1,
   "metadata": {},
   "outputs": [],
   "source": [
    "# Data / Model / Objective Function / Optimization Algorithm\n",
    "# This is a cyclic model\n",
    "\n",
    "# multiple inputs & multiple outputs\n",
    "# \n",
    "# inputs:\n",
    "# size & proximity to beach are inputs \n",
    "# \n",
    "# outputs:\n",
    "# rent as a function of size & distance\n",
    "# price as a function of size & distance\n",
    "# \n",
    "# Ysub1 = Xsub1(Wsub11) + Xsub2(Wsub21) + Bsub1\n",
    "# Ysub2 = Xsub1(Wsub12) + Xsub2(Wsub22) + Bsub2\n",
    "# \n",
    "# if we have K inputs and M outputs,\n",
    "# the number of weights is equal to K*M \n",
    "\n",
    " \n",
    "# Y = XW+B \n",
    "\n",
    "# * Only vary values of biases and weight\n",
    "\n",
    "\n",
    "# 3 TYPES OF MACHINE LEARNING\n",
    "# 1) supervised: prelabled samples\n",
    "#     1) classification: outputs are categories\n",
    "#     2) regression: outputs are numerical\n",
    "# 2) unsupervised: not prelabled/algorithm finds differences\n",
    "# 3) reinforcement: reward alg w/ score\n",
    "\n",
    "# LINEAR MODEL\n",
    "# f(x)=xw+b\n",
    "# where:\n",
    "# f is the whole function\n",
    "# x is the input\n",
    "# w is the coefficient\n",
    "# b is the intercept\n",
    "\n",
    "# linear model can be defined as:\n",
    "# wx+b \n",
    "# xw+b \n",
    "# x^tw+b \n",
    "# w^tx+b \n"
   ]
  },
  {
   "cell_type": "markdown",
   "source": [
    "### creating a new environment\n",
    "conda create --name py3-TF2.0 python=3"
   ],
   "metadata": {
    "collapsed": false
   }
  },
  {
   "cell_type": "markdown",
   "source": [
    "### creating a new environment\n",
    "conda create --name py3-TF2.0 python=3"
   ],
   "metadata": {
    "collapsed": false
   }
  },
  {
   "cell_type": "markdown",
   "source": [
    "### creating a new environment\n",
    "conda create --name py3-TF2.0 python=3"
   ],
   "metadata": {
    "collapsed": false
   }
  },
  {
   "cell_type": "markdown",
   "source": [
    "### creating a new environment\n",
    "conda create --name py3-TF2.0 python=3"
   ],
   "metadata": {
    "collapsed": false
   }
  },
  {
   "cell_type": "markdown",
   "metadata": {},
   "source": [
    "### creating a new environment\n",
    "conda create --name py3-TF2.0 python=3"
   ]
  }
 ],
 "metadata": {
  "kernelspec": {
   "display_name": "Python 3",
   "language": "python",
   "name": "python3"
  },
  "language_info": {
   "codemirror_mode": {
    "name": "ipython",
    "version": 3
   },
   "file_extension": ".py",
   "mimetype": "text/x-python",
   "name": "python",
   "nbconvert_exporter": "python",
   "pygments_lexer": "ipython3",
   "version": "3.7.6"
  },
  "pycharm": {
   "stem_cell": {
    "cell_type": "raw",
    "source": [],
    "metadata": {
     "collapsed": false
    }
   }
  }
 },
 "nbformat": 4,
 "nbformat_minor": 4
}
