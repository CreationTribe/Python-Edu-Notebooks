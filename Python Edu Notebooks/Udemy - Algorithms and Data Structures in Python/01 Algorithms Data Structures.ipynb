{
 "cells": [
  {
   "cell_type": "code",
   "execution_count": null,
   "metadata": {
    "collapsed": true
   },
   "outputs": [],
   "source": [
    "# Big O Notation (Landau Notation)\n",
    "\n",
    "# f(x) = O(g(x)) as x -> inf\n",
    "# 1)  only if there is a positive constant 'c'\n",
    "# such that FOR all sufficiently large values of 'x'\n",
    "# the abs val of x is at most c*|g(x)|\n",
    "# 2) if f(x) is a sum of multiple terms, the one\n",
    "# with the largest growth rate is kept and the rest\n",
    "# omitted. O(N+logN)=O(N)\n",
    "# 3) if f(x) is a product of multiple factors,\n",
    "# any constants are omitted O(c*N)=O(N)\n",
    "\n",
    "# ::Sorting Algorithms Time Complexity::\n",
    "# Big O Complexity\n",
    "# factorial: O(N!)\n",
    "# fewer elements, more operations\n",
    "#\n",
    "# Exponential: O(2^N)\n",
    "# next fewer operations, more elements\n",
    "#\n",
    "# Quadratic: O(N^2)\n",
    "# next fewer ops, more elems\n",
    "#\n",
    "# Linearithmic: O(N*logN)\n",
    "# next fewer ops, more elems\n",
    "#\n",
    "# Linear: O(N)\n",
    "# next fewer ops, more elems\n",
    "#\n",
    "# Logarithmic: O(logN)\n",
    "# next fewer ops, more elems\n",
    "#\n",
    "# Constant: O(1)\n",
    "# ops is constant\n",
    "\n",
    "\n",
    "# Complexity Classes\n",
    "# P (Polinomial)\n",
    "# NP (Nondeterministic Polynomial)\n",
    "# NP Complete (both NP and NP-Hard)\n",
    "# NP-Hard ()"
   ]
  },
  {
   "cell_type": "code",
   "execution_count": null,
   "outputs": [],
   "source": [],
   "metadata": {
    "collapsed": false,
    "pycharm": {
     "name": "#%%\n"
    }
   }
  }
 ],
 "metadata": {
  "kernelspec": {
   "display_name": "Python 3",
   "language": "python",
   "name": "python3"
  },
  "language_info": {
   "codemirror_mode": {
    "name": "ipython",
    "version": 2
   },
   "file_extension": ".py",
   "mimetype": "text/x-python",
   "name": "python",
   "nbconvert_exporter": "python",
   "pygments_lexer": "ipython2",
   "version": "2.7.6"
  }
 },
 "nbformat": 4,
 "nbformat_minor": 0
}