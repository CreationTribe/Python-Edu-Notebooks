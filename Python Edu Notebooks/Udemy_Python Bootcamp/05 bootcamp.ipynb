{
 "cells": [
  {
   "cell_type": "code",
   "execution_count": 2,
   "metadata": {
    "collapsed": true,
    "pycharm": {
     "is_executing": false
    }
   },
   "outputs": [
    {
     "name": "stdout",
     "text": [
      "is true\n"
     ],
     "output_type": "stream"
    }
   ],
   "source": [
    "if True:\n",
    "    print('is true')\n",
    "elif 'conditional' == 'conditional':\n",
    "    print('is also true')\n",
    "else:\n",
    "    print('is not so much true')"
   ]
  },
  {
   "cell_type": "code",
   "execution_count": 1,
   "outputs": [
    {
     "name": "stdout",
     "text": [
      "1\n",
      "2\n",
      "3\n"
     ],
     "output_type": "stream"
    }
   ],
   "source": [
    "#   ITERABLES\n",
    "#   An iterable is something you can loop through\n",
    "my_iterable = [1,2,3]\n",
    "for item_name in my_iterable:\n",
    "    print(item_name)"
   ],
   "metadata": {
    "collapsed": false,
    "pycharm": {
     "name": "#%%\n",
     "is_executing": false
    }
   }
  },
  {
   "cell_type": "code",
   "execution_count": 4,
   "outputs": [
    {
     "name": "stdout",
     "text": [
      "number: 1\n",
      "god damned number 1\n",
      "number: 2\n",
      "god damned number 2\n",
      "number: 3\n",
      "god damned number 3\n",
      "number: 4\n",
      "god damned number 4\n",
      "number: 5\n",
      "god damned number 5\n",
      "number: 6\n",
      "god damned number 6\n",
      "number: 7\n",
      "god damned number 7\n",
      "number: 8\n",
      "god damned number 8\n",
      "number: 9\n",
      "god damned number 9\n",
      "number: 10\n",
      "god damned number 10\n",
      "number: 11\n",
      "god damned number 11\n"
     ],
     "output_type": "stream"
    }
   ],
   "source": [
    "my_list = [1,2,3,4,5,6,7,8,9,10,11]\n",
    "for num in my_list:\n",
    "    print(f'number: {num}')\n",
    "    print('god damned number {}'.format(num))\n",
    "    "
   ],
   "metadata": {
    "collapsed": false,
    "pycharm": {
     "name": "#%%\n",
     "is_executing": false
    }
   }
  },
  {
   "cell_type": "code",
   "execution_count": 7,
   "outputs": [
    {
     "name": "stdout",
     "text": [
      "odd number: 1\n",
      "2\n",
      "odd number: 3\n",
      "4\n",
      "odd number: 5\n",
      "6\n",
      "odd number: 7\n",
      "8\n",
      "odd number: 9\n",
      "10\n",
      "odd number: 11\n"
     ],
     "output_type": "stream"
    }
   ],
   "source": [
    "for num in my_list:\n",
    "    if num % 2 == 0:\n",
    "        print(num)\n",
    "    else:\n",
    "        print(f'odd number: {num}')\n",
    "    \n"
   ],
   "metadata": {
    "collapsed": false,
    "pycharm": {
     "name": "#%%\n",
     "is_executing": false
    }
   }
  },
  {
   "cell_type": "code",
   "execution_count": 9,
   "outputs": [
    {
     "name": "stdout",
     "text": [
      "Runnning Tally: 1\n",
      "Runnning Tally: 3\n",
      "Runnning Tally: 6\n",
      "Runnning Tally: 10\n",
      "Runnning Tally: 15\n",
      "Runnning Tally: 21\n",
      "Runnning Tally: 28\n",
      "Runnning Tally: 36\n",
      "Runnning Tally: 45\n",
      "Runnning Tally: 55\n",
      "Runnning Tally: 66\n",
      "66\n"
     ],
     "output_type": "stream"
    }
   ],
   "source": [
    "listsum = 0\n",
    "for num in my_list:\n",
    "    listsum = listsum + num\n",
    "    print(f'Runnning Tally: {listsum}')\n",
    "    \n",
    "print(listsum)\n",
    "  \n"
   ],
   "metadata": {
    "collapsed": false,
    "pycharm": {
     "name": "#%%\n",
     "is_executing": false
    }
   }
  },
  {
   "cell_type": "code",
   "execution_count": 12,
   "outputs": [
    {
     "name": "stdout",
     "text": [
      "H\n",
      "e\n",
      "l\n",
      "l\n",
      "o\n",
      "w\n",
      " \n",
      "G\n",
      "o\n",
      "r\n",
      "d\n",
      " \n",
      "D\n",
      "i\n",
      "m\n",
      "n\n",
      "u\n",
      "t\n",
      "s\n",
      "!\n",
      "awe yeah beeeebolz\n",
      "awe yeah beeeebolz\n",
      "awe yeah beeeebolz\n",
      "awe yeah beeeebolz\n",
      "awe yeah beeeebolz\n",
      "awe yeah beeeebolz\n",
      "awe yeah beeeebolz\n",
      "awe yeah beeeebolz\n",
      "awe yeah beeeebolz\n",
      "awe yeah beeeebolz\n",
      "awe yeah beeeebolz\n",
      "awe yeah beeeebolz\n",
      "awe yeah beeeebolz\n",
      "awe yeah beeeebolz\n",
      "awe yeah beeeebolz\n",
      "awe yeah beeeebolz\n",
      "awe yeah beeeebolz\n",
      "awe yeah beeeebolz\n"
     ],
     "output_type": "stream"
    }
   ],
   "source": [
    "mystring='Hellow Gord Dimnuts!'\n",
    "for letter in mystring:\n",
    "    print(letter)    \n",
    "\n",
    "#   BLANK ITERATORS\n",
    "#   Use the underscore if iteration val is not used\n",
    "for _ in 'this here sentence':\n",
    "    print('awe yeah beeeebolz')"
   ],
   "metadata": {
    "collapsed": false,
    "pycharm": {
     "name": "#%%\n",
     "is_executing": false
    }
   }
  },
  {
   "cell_type": "code",
   "execution_count": 13,
   "outputs": [
    {
     "name": "stdout",
     "text": [
      "1\n",
      "2\n",
      "4\n"
     ],
     "output_type": "stream"
    }
   ],
   "source": [
    "tup = (1,2,4)\n",
    "for item in tup:\n",
    "    print(item)"
   ],
   "metadata": {
    "collapsed": false,
    "pycharm": {
     "name": "#%%\n",
     "is_executing": false
    }
   }
  },
  {
   "cell_type": "code",
   "execution_count": 14,
   "outputs": [
    {
     "data": {
      "text/plain": "4"
     },
     "metadata": {},
     "output_type": "execute_result",
     "execution_count": 14
    }
   ],
   "source": [
    "mylist =[(1,2),(3,4),(5,6),(7,8)]\n",
    "len(mylist)"
   ],
   "metadata": {
    "collapsed": false,
    "pycharm": {
     "name": "#%%\n",
     "is_executing": false
    }
   }
  },
  {
   "cell_type": "code",
   "execution_count": 15,
   "outputs": [
    {
     "name": "stdout",
     "text": [
      "(1, 2)\n",
      "(3, 4)\n",
      "(5, 6)\n",
      "(7, 8)\n"
     ],
     "output_type": "stream"
    }
   ],
   "source": [
    "for item in mylist:\n",
    "    print(item)"
   ],
   "metadata": {
    "collapsed": false,
    "pycharm": {
     "name": "#%%\n",
     "is_executing": false
    }
   }
  },
  {
   "cell_type": "code",
   "execution_count": 17,
   "outputs": [
    {
     "name": "stdout",
     "text": [
      "1\n",
      "2\n",
      "3\n",
      "4\n",
      "5\n",
      "6\n",
      "7\n",
      "8\n",
      "1\n",
      "2\n",
      "4\n",
      "5\n",
      "7\n",
      "8\n"
     ],
     "output_type": "stream"
    }
   ],
   "source": [
    "#   TUPLE UNPACKING\n",
    "#   call two vars in the for loop, and extract them accordingly\n",
    "for (a,b) in mylist:\n",
    "    print(a)\n",
    "    print(b)\n",
    "    \n",
    "mylist = [(1,2,3),(4,5,6),(7,8,9)] \n",
    "for (a,b,c) in mylist:\n",
    "    print(a)\n",
    "    print(b)\n",
    "\n"
   ],
   "metadata": {
    "collapsed": false,
    "pycharm": {
     "name": "#%%\n",
     "is_executing": false
    }
   }
  },
  {
   "cell_type": "code",
   "execution_count": 19,
   "outputs": [
    {
     "name": "stdout",
     "text": [
      "Key: k => 1\n",
      "Key: k => 3\n",
      "Key: k => 7\n",
      "Key: k => 9\n",
      "Val: 1\n",
      "Val: 4\n",
      "Val: 66\n",
      "Val: 108\n"
     ],
     "output_type": "stream"
    }
   ],
   "source": [
    "d={'k1':1,'k3':4,'k7':66,'k9':108}\n",
    "for key,val in d:\n",
    "    print(f'Key: {key} => {val}')\n",
    "    \n",
    "for val in d.values():\n",
    "    print(f'Val: {val}')\n"
   ],
   "metadata": {
    "collapsed": false,
    "pycharm": {
     "name": "#%%\n",
     "is_executing": false
    }
   }
  },
  {
   "cell_type": "code",
   "execution_count": 3,
   "outputs": [
    {
     "name": "stdout",
     "text": [
      "2\n",
      "4\n",
      "8\n",
      "16\n",
      "32\n",
      "64\n",
      "128\n",
      "x is less than or equal to 100\n"
     ],
     "output_type": "stream"
    }
   ],
   "source": [
    "#   WHILE LOOPS\n",
    "x = 1\n",
    "while x <= 100:\n",
    "    x+=x\n",
    "    print(x)\n",
    "else:\n",
    "    print(\"x is less than or equal to 100\")\n",
    "    "
   ],
   "metadata": {
    "collapsed": false,
    "pycharm": {
     "name": "#%%\n",
     "is_executing": false
    }
   }
  },
  {
   "cell_type": "code",
   "execution_count": 4,
   "outputs": [],
   "source": [
    "x = [1,2,3]\n",
    "for item in x:\n",
    "    #coment\n",
    "    pass # the pass just breezes by w/out error\n"
   ],
   "metadata": {
    "collapsed": false,
    "pycharm": {
     "name": "#%%\n",
     "is_executing": false
    }
   }
  },
  {
   "cell_type": "code",
   "execution_count": 5,
   "outputs": [
    {
     "name": "stdout",
     "text": [
      "s\n",
      "m\n",
      "m\n",
      "y\n"
     ],
     "output_type": "stream"
    }
   ],
   "source": [
    "mst = 'sammy'\n",
    "for letter in mst:\n",
    "    if letter  == 'a':\n",
    "        continue # go ahead and continue\n",
    "    print(letter)"
   ],
   "metadata": {
    "collapsed": false,
    "pycharm": {
     "name": "#%%\n",
     "is_executing": false
    }
   }
  },
  {
   "cell_type": "code",
   "execution_count": 6,
   "outputs": [
    {
     "name": "stdout",
     "text": [
      "0\n",
      "1\n"
     ],
     "output_type": "stream"
    }
   ],
   "source": [
    "x=0\n",
    "while x<5:\n",
    "    if x==2:\n",
    "        break # breaks the loop\n",
    "    print(x)\n",
    "    x += 1\n",
    "    "
   ],
   "metadata": {
    "collapsed": false,
    "pycharm": {
     "name": "#%%\n",
     "is_executing": false
    }
   }
  },
  {
   "cell_type": "code",
   "execution_count": null,
   "outputs": [],
   "source": [
    "\n"
   ],
   "metadata": {
    "collapsed": false,
    "pycharm": {
     "name": "#%%\n"
    }
   }
  }
 ],
 "metadata": {
  "kernelspec": {
   "display_name": "Python 3",
   "language": "python",
   "name": "python3"
  },
  "language_info": {
   "codemirror_mode": {
    "name": "ipython",
    "version": 2
   },
   "file_extension": ".py",
   "mimetype": "text/x-python",
   "name": "python",
   "nbconvert_exporter": "python",
   "pygments_lexer": "ipython2",
   "version": "2.7.6"
  },
  "pycharm": {
   "stem_cell": {
    "cell_type": "raw",
    "source": [],
    "metadata": {
     "collapsed": false
    }
   }
  }
 },
 "nbformat": 4,
 "nbformat_minor": 0
}
